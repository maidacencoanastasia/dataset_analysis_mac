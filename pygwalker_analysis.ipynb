{
 "cells": [
  {
   "cell_type": "code",
   "execution_count": 15,
   "outputs": [],
   "source": [
    "!pip install pygwalker -q"
   ],
   "metadata": {
    "collapsed": false
   }
  },
  {
   "cell_type": "code",
   "execution_count": 16,
   "metadata": {
    "collapsed": true
   },
   "outputs": [],
   "source": [
    "import pygwalker as pyg\n",
    "import pandas as pd"
   ]
  },
  {
   "cell_type": "code",
   "execution_count": 17,
   "outputs": [
    {
     "data": {
      "text/plain": "               Category                                               Item  \\\n0             Breakfast                                       Egg McMuffin   \n1             Breakfast                                  Egg White Delight   \n2             Breakfast                                   Sausage McMuffin   \n3             Breakfast                          Sausage McMuffin with Egg   \n4             Breakfast                   Sausage McMuffin with Egg Whites   \n..                  ...                                                ...   \n255  Smoothies & Shakes                 McFlurry with Oreo Cookies (Small)   \n256  Smoothies & Shakes                McFlurry with Oreo Cookies (Medium)   \n257  Smoothies & Shakes                 McFlurry with Oreo Cookies (Snack)   \n258  Smoothies & Shakes  McFlurry with Reese's Peanut Butter Cups (Medium)   \n259  Smoothies & Shakes   McFlurry with Reese's Peanut Butter Cups (Snack)   \n\n        Serving Size  Calories  Calories from Fat  Total Fat  \\\n0     4.8 oz (136 g)       300                120       13.0   \n1     4.8 oz (135 g)       250                 70        8.0   \n2     3.9 oz (111 g)       370                200       23.0   \n3     5.7 oz (161 g)       450                250       28.0   \n4     5.7 oz (161 g)       400                210       23.0   \n..               ...       ...                ...        ...   \n255  10.1 oz (285 g)       510                150       17.0   \n256  13.4 oz (381 g)       690                200       23.0   \n257   6.7 oz (190 g)       340                100       11.0   \n258  14.2 oz (403 g)       810                290       32.0   \n259   7.1 oz (202 g)       410                150       16.0   \n\n     Total Fat (% Daily Value)  Saturated Fat  Saturated Fat (% Daily Value)  \\\n0                           20            5.0                             25   \n1                           12            3.0                             15   \n2                           35            8.0                             42   \n3                           43           10.0                             52   \n4                           35            8.0                             42   \n..                         ...            ...                            ...   \n255                         26            9.0                             44   \n256                         35           12.0                             58   \n257                         17            6.0                             29   \n258                         50           15.0                             76   \n259                         25            8.0                             38   \n\n     Trans Fat  ...  Carbohydrates  Carbohydrates (% Daily Value)  \\\n0          0.0  ...             31                             10   \n1          0.0  ...             30                             10   \n2          0.0  ...             29                             10   \n3          0.0  ...             30                             10   \n4          0.0  ...             30                             10   \n..         ...  ...            ...                            ...   \n255        0.5  ...             80                             27   \n256        1.0  ...            106                             35   \n257        0.0  ...             53                             18   \n258        1.0  ...            114                             38   \n259        0.0  ...             57                             19   \n\n     Dietary Fiber  Dietary Fiber (% Daily Value)  Sugars  Protein  \\\n0                4                             17       3       17   \n1                4                             17       3       18   \n2                4                             17       2       14   \n3                4                             17       2       21   \n4                4                             17       2       21   \n..             ...                            ...     ...      ...   \n255              1                              4      64       12   \n256              1                              5      85       15   \n257              1                              2      43        8   \n258              2                              9     103       21   \n259              1                              5      51       10   \n\n     Vitamin A (% Daily Value)  Vitamin C (% Daily Value)  \\\n0                           10                          0   \n1                            6                          0   \n2                            8                          0   \n3                           15                          0   \n4                            6                          0   \n..                         ...                        ...   \n255                         15                          0   \n256                         20                          0   \n257                         10                          0   \n258                         20                          0   \n259                         10                          0   \n\n     Calcium (% Daily Value)  Iron (% Daily Value)  \n0                         25                    15  \n1                         25                     8  \n2                         25                    10  \n3                         30                    15  \n4                         25                    10  \n..                       ...                   ...  \n255                       40                     8  \n256                       50                    10  \n257                       25                     6  \n258                       60                     6  \n259                       30                     4  \n\n[260 rows x 24 columns]",
      "text/html": "<div>\n<style scoped>\n    .dataframe tbody tr th:only-of-type {\n        vertical-align: middle;\n    }\n\n    .dataframe tbody tr th {\n        vertical-align: top;\n    }\n\n    .dataframe thead th {\n        text-align: right;\n    }\n</style>\n<table border=\"1\" class=\"dataframe\">\n  <thead>\n    <tr style=\"text-align: right;\">\n      <th></th>\n      <th>Category</th>\n      <th>Item</th>\n      <th>Serving Size</th>\n      <th>Calories</th>\n      <th>Calories from Fat</th>\n      <th>Total Fat</th>\n      <th>Total Fat (% Daily Value)</th>\n      <th>Saturated Fat</th>\n      <th>Saturated Fat (% Daily Value)</th>\n      <th>Trans Fat</th>\n      <th>...</th>\n      <th>Carbohydrates</th>\n      <th>Carbohydrates (% Daily Value)</th>\n      <th>Dietary Fiber</th>\n      <th>Dietary Fiber (% Daily Value)</th>\n      <th>Sugars</th>\n      <th>Protein</th>\n      <th>Vitamin A (% Daily Value)</th>\n      <th>Vitamin C (% Daily Value)</th>\n      <th>Calcium (% Daily Value)</th>\n      <th>Iron (% Daily Value)</th>\n    </tr>\n  </thead>\n  <tbody>\n    <tr>\n      <th>0</th>\n      <td>Breakfast</td>\n      <td>Egg McMuffin</td>\n      <td>4.8 oz (136 g)</td>\n      <td>300</td>\n      <td>120</td>\n      <td>13.0</td>\n      <td>20</td>\n      <td>5.0</td>\n      <td>25</td>\n      <td>0.0</td>\n      <td>...</td>\n      <td>31</td>\n      <td>10</td>\n      <td>4</td>\n      <td>17</td>\n      <td>3</td>\n      <td>17</td>\n      <td>10</td>\n      <td>0</td>\n      <td>25</td>\n      <td>15</td>\n    </tr>\n    <tr>\n      <th>1</th>\n      <td>Breakfast</td>\n      <td>Egg White Delight</td>\n      <td>4.8 oz (135 g)</td>\n      <td>250</td>\n      <td>70</td>\n      <td>8.0</td>\n      <td>12</td>\n      <td>3.0</td>\n      <td>15</td>\n      <td>0.0</td>\n      <td>...</td>\n      <td>30</td>\n      <td>10</td>\n      <td>4</td>\n      <td>17</td>\n      <td>3</td>\n      <td>18</td>\n      <td>6</td>\n      <td>0</td>\n      <td>25</td>\n      <td>8</td>\n    </tr>\n    <tr>\n      <th>2</th>\n      <td>Breakfast</td>\n      <td>Sausage McMuffin</td>\n      <td>3.9 oz (111 g)</td>\n      <td>370</td>\n      <td>200</td>\n      <td>23.0</td>\n      <td>35</td>\n      <td>8.0</td>\n      <td>42</td>\n      <td>0.0</td>\n      <td>...</td>\n      <td>29</td>\n      <td>10</td>\n      <td>4</td>\n      <td>17</td>\n      <td>2</td>\n      <td>14</td>\n      <td>8</td>\n      <td>0</td>\n      <td>25</td>\n      <td>10</td>\n    </tr>\n    <tr>\n      <th>3</th>\n      <td>Breakfast</td>\n      <td>Sausage McMuffin with Egg</td>\n      <td>5.7 oz (161 g)</td>\n      <td>450</td>\n      <td>250</td>\n      <td>28.0</td>\n      <td>43</td>\n      <td>10.0</td>\n      <td>52</td>\n      <td>0.0</td>\n      <td>...</td>\n      <td>30</td>\n      <td>10</td>\n      <td>4</td>\n      <td>17</td>\n      <td>2</td>\n      <td>21</td>\n      <td>15</td>\n      <td>0</td>\n      <td>30</td>\n      <td>15</td>\n    </tr>\n    <tr>\n      <th>4</th>\n      <td>Breakfast</td>\n      <td>Sausage McMuffin with Egg Whites</td>\n      <td>5.7 oz (161 g)</td>\n      <td>400</td>\n      <td>210</td>\n      <td>23.0</td>\n      <td>35</td>\n      <td>8.0</td>\n      <td>42</td>\n      <td>0.0</td>\n      <td>...</td>\n      <td>30</td>\n      <td>10</td>\n      <td>4</td>\n      <td>17</td>\n      <td>2</td>\n      <td>21</td>\n      <td>6</td>\n      <td>0</td>\n      <td>25</td>\n      <td>10</td>\n    </tr>\n    <tr>\n      <th>...</th>\n      <td>...</td>\n      <td>...</td>\n      <td>...</td>\n      <td>...</td>\n      <td>...</td>\n      <td>...</td>\n      <td>...</td>\n      <td>...</td>\n      <td>...</td>\n      <td>...</td>\n      <td>...</td>\n      <td>...</td>\n      <td>...</td>\n      <td>...</td>\n      <td>...</td>\n      <td>...</td>\n      <td>...</td>\n      <td>...</td>\n      <td>...</td>\n      <td>...</td>\n      <td>...</td>\n    </tr>\n    <tr>\n      <th>255</th>\n      <td>Smoothies &amp; Shakes</td>\n      <td>McFlurry with Oreo Cookies (Small)</td>\n      <td>10.1 oz (285 g)</td>\n      <td>510</td>\n      <td>150</td>\n      <td>17.0</td>\n      <td>26</td>\n      <td>9.0</td>\n      <td>44</td>\n      <td>0.5</td>\n      <td>...</td>\n      <td>80</td>\n      <td>27</td>\n      <td>1</td>\n      <td>4</td>\n      <td>64</td>\n      <td>12</td>\n      <td>15</td>\n      <td>0</td>\n      <td>40</td>\n      <td>8</td>\n    </tr>\n    <tr>\n      <th>256</th>\n      <td>Smoothies &amp; Shakes</td>\n      <td>McFlurry with Oreo Cookies (Medium)</td>\n      <td>13.4 oz (381 g)</td>\n      <td>690</td>\n      <td>200</td>\n      <td>23.0</td>\n      <td>35</td>\n      <td>12.0</td>\n      <td>58</td>\n      <td>1.0</td>\n      <td>...</td>\n      <td>106</td>\n      <td>35</td>\n      <td>1</td>\n      <td>5</td>\n      <td>85</td>\n      <td>15</td>\n      <td>20</td>\n      <td>0</td>\n      <td>50</td>\n      <td>10</td>\n    </tr>\n    <tr>\n      <th>257</th>\n      <td>Smoothies &amp; Shakes</td>\n      <td>McFlurry with Oreo Cookies (Snack)</td>\n      <td>6.7 oz (190 g)</td>\n      <td>340</td>\n      <td>100</td>\n      <td>11.0</td>\n      <td>17</td>\n      <td>6.0</td>\n      <td>29</td>\n      <td>0.0</td>\n      <td>...</td>\n      <td>53</td>\n      <td>18</td>\n      <td>1</td>\n      <td>2</td>\n      <td>43</td>\n      <td>8</td>\n      <td>10</td>\n      <td>0</td>\n      <td>25</td>\n      <td>6</td>\n    </tr>\n    <tr>\n      <th>258</th>\n      <td>Smoothies &amp; Shakes</td>\n      <td>McFlurry with Reese's Peanut Butter Cups (Medium)</td>\n      <td>14.2 oz (403 g)</td>\n      <td>810</td>\n      <td>290</td>\n      <td>32.0</td>\n      <td>50</td>\n      <td>15.0</td>\n      <td>76</td>\n      <td>1.0</td>\n      <td>...</td>\n      <td>114</td>\n      <td>38</td>\n      <td>2</td>\n      <td>9</td>\n      <td>103</td>\n      <td>21</td>\n      <td>20</td>\n      <td>0</td>\n      <td>60</td>\n      <td>6</td>\n    </tr>\n    <tr>\n      <th>259</th>\n      <td>Smoothies &amp; Shakes</td>\n      <td>McFlurry with Reese's Peanut Butter Cups (Snack)</td>\n      <td>7.1 oz (202 g)</td>\n      <td>410</td>\n      <td>150</td>\n      <td>16.0</td>\n      <td>25</td>\n      <td>8.0</td>\n      <td>38</td>\n      <td>0.0</td>\n      <td>...</td>\n      <td>57</td>\n      <td>19</td>\n      <td>1</td>\n      <td>5</td>\n      <td>51</td>\n      <td>10</td>\n      <td>10</td>\n      <td>0</td>\n      <td>30</td>\n      <td>4</td>\n    </tr>\n  </tbody>\n</table>\n<p>260 rows × 24 columns</p>\n</div>"
     },
     "execution_count": 17,
     "metadata": {},
     "output_type": "execute_result"
    }
   ],
   "source": [
    "# Load the data\n",
    "df = pd.read_csv('dataset/menu.csv')\n",
    "df"
   ],
   "metadata": {
    "collapsed": false
   }
  },
  {
   "cell_type": "code",
   "execution_count": 18,
   "outputs": [],
   "source": [
    "from pygwalker import GlobalVarManager\n",
    "\n",
    "GlobalVarManager.set_kanaries_api_key(\"ak-512ccc2455582546433e13e46520e1d25f5133e84b3122b7a2eb8645a004b661\") #(\"ak-512ccc2455582546433e13e46520e1d25f5133e84b3122b7a2eb8645a004b661\")"
   ],
   "metadata": {
    "collapsed": false
   }
  },
  {
   "cell_type": "code",
   "execution_count": 19,
   "outputs": [
    {
     "data": {
      "text/plain": "Box(children=(HTML(value='<div id=\"ifr-pyg-00061706a35a9c0cjNteqWuovxOFQbZm\" style=\"height: auto\">\\n    <head>…",
      "application/vnd.jupyter.widget-view+json": {
       "version_major": 2,
       "version_minor": 0,
       "model_id": "9c3e8f52f8e842c6a5bfd2ceb80b66f2"
      }
     },
     "metadata": {},
     "output_type": "display_data"
    },
    {
     "data": {
      "text/plain": "<IPython.core.display.HTML object>",
      "text/html": ""
     },
     "metadata": {},
     "output_type": "display_data"
    },
    {
     "data": {
      "text/plain": "<pygwalker.api.pygwalker.PygWalker at 0x2ecc2bfc710>"
     },
     "execution_count": 19,
     "metadata": {},
     "output_type": "execute_result"
    }
   ],
   "source": [
    "pyg.walk(df)"
   ],
   "metadata": {
    "collapsed": false
   }
  }
 ],
 "metadata": {
  "kernelspec": {
   "display_name": "Python 3",
   "language": "python",
   "name": "python3"
  },
  "language_info": {
   "codemirror_mode": {
    "name": "ipython",
    "version": 2
   },
   "file_extension": ".py",
   "mimetype": "text/x-python",
   "name": "python",
   "nbconvert_exporter": "python",
   "pygments_lexer": "ipython2",
   "version": "2.7.6"
  }
 },
 "nbformat": 4,
 "nbformat_minor": 0
}
